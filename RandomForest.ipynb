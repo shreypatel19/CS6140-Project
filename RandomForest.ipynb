{
 "cells": [
  {
   "cell_type": "code",
   "execution_count": 1,
   "id": "3af8cac8",
   "metadata": {},
   "outputs": [
    {
     "name": "stdout",
     "output_type": "stream",
     "text": [
      "Path to dataset files: C:\\Users\\pokes\\.cache\\kagglehub\\datasets\\rtatman\\deceptive-opinion-spam-corpus\\versions\\2\n"
     ]
    }
   ],
   "source": [
    "import kagglehub\n",
    "\n",
    "# Download latest version\n",
    "path = kagglehub.dataset_download(\"rtatman/deceptive-opinion-spam-corpus\")\n",
    "\n",
    "print(\"Path to dataset files:\", path)"
   ]
  },
  {
   "cell_type": "code",
   "execution_count": 4,
   "id": "8e597b6d",
   "metadata": {},
   "outputs": [],
   "source": [
    "import numpy as np\n",
    "import pandas as pd\n",
    "import torch\n",
    "from torch import nn\n",
    "from sklearn.model_selection import KFold\n",
    "from sklearn.feature_extraction.text import TfidfVectorizer\n",
    "from sklearn.ensemble import RandomForestClassifier\n",
    "from sklearn.metrics import precision_score, recall_score, f1_score"
   ]
  },
  {
   "cell_type": "code",
   "execution_count": 3,
   "id": "2c8a2dbe",
   "metadata": {},
   "outputs": [],
   "source": [
    "df = pd.read_csv(path + \"\\\\deceptive-opinion.csv\")\n",
    "X_text = df[\"text\"].values\n",
    "y = df[\"deceptive\"].apply(lambda x: 1 if x == \"deceptive\" else 0).values\n",
    "\n",
    "kf = KFold(n_splits=5, shuffle=True, random_state=42)"
   ]
  },
  {
   "cell_type": "code",
   "execution_count": 15,
   "id": "b7d51067",
   "metadata": {},
   "outputs": [
    {
     "name": "stderr",
     "output_type": "stream",
     "text": [
      "[nltk_data] Downloading package wordnet to\n",
      "[nltk_data]     C:\\Users\\pokes\\AppData\\Roaming\\nltk_data...\n",
      "[nltk_data] Downloading package stopwords to\n",
      "[nltk_data]     C:\\Users\\pokes\\AppData\\Roaming\\nltk_data...\n",
      "[nltk_data]   Package stopwords is already up-to-date!\n"
     ]
    }
   ],
   "source": [
    "import nltk\n",
    "from nltk.tokenize import word_tokenize\n",
    "from nltk.corpus import stopwords\n",
    "from nltk.stem import WordNetLemmatizer\n",
    "\n",
    "nltk.download('wordnet')\n",
    "\n",
    "wnl = WordNetLemmatizer()\n",
    "\n",
    "nltk.download('stopwords')\n",
    "\n",
    "X_text = [' '.join([wnl.lemmatize(w) for w in word_tokenize(text.lower()) if w not in stopwords.words('english')]) for text in X_text]"
   ]
  },
  {
   "cell_type": "code",
   "execution_count": 16,
   "id": "b2cd80e4",
   "metadata": {},
   "outputs": [],
   "source": [
    "X_text = np.array(X_text)"
   ]
  },
  {
   "cell_type": "code",
   "execution_count": 17,
   "id": "196dd751",
   "metadata": {},
   "outputs": [
    {
     "name": "stdout",
     "output_type": "stream",
     "text": [
      "Fold accuracy: 0.8625, precision: 0.8214, recall: 0.9079, f1: 0.8625\n",
      "Fold accuracy: 0.8438, precision: 0.8706, recall: 0.8409, f1: 0.8555\n",
      "Fold accuracy: 0.8406, precision: 0.8025, recall: 0.8630, f1: 0.8317\n",
      "Fold accuracy: 0.8469, precision: 0.8166, recall: 0.8846, f1: 0.8492\n",
      "Fold accuracy: 0.8562, precision: 0.8690, recall: 0.8588, f1: 0.8639\n",
      "Average accuracy: 0.8500, precision: 0.8360, recall: 0.8711, f1: 0.8526\n"
     ]
    }
   ],
   "source": [
    "accs, precisions, recalls, f1s = [], [], [], []\n",
    "for train_index, test_index in kf.split(X_text):\n",
    "  X_train, X_test = X_text[train_index], X_text[test_index]\n",
    "  y_train, y_test = y[train_index], y[test_index]\n",
    "  vectorizer = TfidfVectorizer()\n",
    "  X_train_tfidf = vectorizer.fit_transform(X_train)\n",
    "  X_test_tfidf = vectorizer.transform(X_test)\n",
    "\n",
    "  model = RandomForestClassifier(n_estimators=100, random_state=42)\n",
    "  model.fit(X_train_tfidf, y_train)\n",
    "\n",
    "  y_pred = model.predict(X_test_tfidf)\n",
    "\n",
    "  accuracy = np.mean(y_pred == y_test)\n",
    "  precision = precision_score(y_test, y_pred)\n",
    "  recall = recall_score(y_test, y_pred)\n",
    "  f1 = f1_score(y_test, y_pred)\n",
    "  accs.append(accuracy)\n",
    "  precisions.append(precision)\n",
    "  recalls.append(recall)\n",
    "  f1s.append(f1)\n",
    "  print(f\"Fold accuracy: {accuracy:.4f}, precision: {precision:.4f}, recall: {recall:.4f}, f1: {f1:.4f}\")\n",
    "print(f\"Average accuracy: {np.mean(accs):.4f}, precision: {np.mean(precisions):.4f}, recall: {np.mean(recalls):.4f}, f1: {np.mean(f1s):.4f}\")"
   ]
  },
  {
   "cell_type": "code",
   "execution_count": null,
   "id": "1c804f36",
   "metadata": {},
   "outputs": [],
   "source": []
  }
 ],
 "metadata": {
  "kernelspec": {
   "display_name": "Python 3",
   "language": "python",
   "name": "python3"
  },
  "language_info": {
   "codemirror_mode": {
    "name": "ipython",
    "version": 3
   },
   "file_extension": ".py",
   "mimetype": "text/x-python",
   "name": "python",
   "nbconvert_exporter": "python",
   "pygments_lexer": "ipython3",
   "version": "3.11.8"
  }
 },
 "nbformat": 4,
 "nbformat_minor": 5
}
