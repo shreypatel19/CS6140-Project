{
 "cells": [
  {
   "cell_type": "markdown",
   "id": "973dea95",
   "metadata": {},
   "source": [
    "model types:\n",
    "tfidf -> ffnn\n",
    "word2vec -> cnn\n",
    "word2vec -> lstm\n",
    "roberta -> ffnn"
   ]
  },
  {
   "cell_type": "code",
   "execution_count": 1,
   "id": "3ca516b4",
   "metadata": {},
   "outputs": [
    {
     "name": "stdout",
     "output_type": "stream",
     "text": [
      "Path to dataset files: C:\\Users\\pokes\\.cache\\kagglehub\\datasets\\rtatman\\deceptive-opinion-spam-corpus\\versions\\2\n"
     ]
    }
   ],
   "source": [
    "import kagglehub\n",
    "\n",
    "# Download latest version\n",
    "path = kagglehub.dataset_download(\"rtatman/deceptive-opinion-spam-corpus\")\n",
    "\n",
    "print(\"Path to dataset files:\", path)"
   ]
  },
  {
   "cell_type": "code",
   "execution_count": 2,
   "id": "07d222f1",
   "metadata": {},
   "outputs": [],
   "source": [
    "import numpy as np\n",
    "import pandas as pd\n",
    "import torch\n",
    "from torch import nn\n",
    "from sklearn.model_selection import KFold\n",
    "from sklearn.feature_extraction.text import TfidfVectorizer\n",
    "from sklearn.metrics import precision_score, recall_score, f1_score\n",
    "from nltk import word_tokenize\n",
    "import gensim.downloader"
   ]
  },
  {
   "cell_type": "code",
   "execution_count": 3,
   "id": "f3c45541",
   "metadata": {},
   "outputs": [],
   "source": [
    "if torch.cuda.is_available():\n",
    "  device = torch.device(\"cuda\")\n",
    "else:\n",
    "  device = torch.device(\"cpu\")"
   ]
  },
  {
   "cell_type": "code",
   "execution_count": 4,
   "id": "cb0414cf",
   "metadata": {},
   "outputs": [],
   "source": [
    "df = pd.read_csv(path + \"\\\\deceptive-opinion.csv\")\n",
    "X_text = df[\"text\"].values\n",
    "y = df[\"deceptive\"].apply(lambda x: 1 if x == \"deceptive\" else 0).values"
   ]
  },
  {
   "cell_type": "code",
   "execution_count": 5,
   "id": "a8753bab",
   "metadata": {},
   "outputs": [],
   "source": [
    "kf = KFold(n_splits=5, shuffle=True, random_state=42)"
   ]
  },
  {
   "cell_type": "code",
   "execution_count": 28,
   "id": "1025c9ea",
   "metadata": {},
   "outputs": [
    {
     "name": "stdout",
     "output_type": "stream",
     "text": [
      "Fold accuracy: 0.8719, Precision: 0.8447, Recall: 0.8947, F1 Score: 0.8690\n",
      "Fold accuracy: 0.8250, Precision: 0.8409, Recall: 0.8409, F1 Score: 0.8409\n",
      "Fold accuracy: 0.8687, Precision: 0.7989, Recall: 0.9521, F1 Score: 0.8688\n",
      "Fold accuracy: 0.8344, Precision: 0.7943, Recall: 0.8910, F1 Score: 0.8399\n",
      "Fold accuracy: 0.8562, Precision: 0.9079, Recall: 0.8118, F1 Score: 0.8571\n"
     ]
    }
   ],
   "source": [
    "accs, precisions, recalls, f1s = [], [], [], []\n",
    "\n",
    "for train_index, test_index in kf.split(X_text):\n",
    "  X_train, X_test = X_text[train_index], X_text[test_index]\n",
    "  y_train, y_test = y[train_index], y[test_index]\n",
    "  vectorizer = TfidfVectorizer()\n",
    "  X_train_tfidf = vectorizer.fit_transform(X_train)\n",
    "  X_test_tfidf = vectorizer.transform(X_test)\n",
    "\n",
    "  model = nn.Sequential(\n",
    "    nn.Linear(X_train_tfidf.shape[1], 256),\n",
    "    nn.ReLU(),\n",
    "    nn.Linear(256, 128),\n",
    "    nn.ReLU(),\n",
    "    nn.Linear(128, 64),\n",
    "    nn.ReLU(),\n",
    "    nn.Linear(64, 32),\n",
    "    nn.ReLU(),\n",
    "    nn.Linear(32, 1),\n",
    "    nn.Sigmoid()\n",
    "  )\n",
    "\n",
    "  criterion = nn.BCELoss()\n",
    "  optimizer = torch.optim.Adam(model.parameters(), lr=0.001)\n",
    "  X_train_tensor = torch.tensor(X_train_tfidf.toarray(), dtype=torch.float32)\n",
    "  y_train_tensor = torch.tensor(y_train, dtype=torch.float32).unsqueeze(1)\n",
    "  X_test_tensor = torch.tensor(X_test_tfidf.toarray(), dtype=torch.float32)\n",
    "  y_test_tensor = torch.tensor(y_test, dtype=torch.float32).unsqueeze(1)\n",
    "  for epoch in range(100):\n",
    "    model.train()\n",
    "    optimizer.zero_grad()\n",
    "    outputs = model(X_train_tensor)\n",
    "    loss = criterion(outputs, y_train_tensor)\n",
    "    loss.backward()\n",
    "    optimizer.step()\n",
    "\n",
    "  with torch.no_grad():\n",
    "    test_outputs = model(X_test_tensor)\n",
    "    boundary = 0.5\n",
    "    test_outputs = (test_outputs > boundary).float()\n",
    "    accuracy = (test_outputs.squeeze() == y_test_tensor.squeeze()).float().mean().item()\n",
    "    precision = precision_score(y_test, test_outputs.numpy())\n",
    "    recall = recall_score(y_test, test_outputs.numpy())\n",
    "    f1 = f1_score(y_test, test_outputs.numpy())\n",
    "  accs.append(accuracy)\n",
    "  precisions.append(precision)\n",
    "  recalls.append(recall)\n",
    "  f1s.append(f1)\n",
    "  print(f\"Fold accuracy: {accuracy:.4f}, Precision: {precision:.4f}, Recall: {recall:.4f}, F1 Score: {f1:.4f}\")"
   ]
  },
  {
   "cell_type": "code",
   "execution_count": 29,
   "id": "3ea848a3",
   "metadata": {},
   "outputs": [
    {
     "name": "stdout",
     "output_type": "stream",
     "text": [
      "Average accuracy: 0.8512, Precision: 0.8373, Recall: 0.8781, F1 Score: 0.8551\n"
     ]
    }
   ],
   "source": [
    "print(f\"Average accuracy: {np.mean(accs):.4f}, Precision: {np.mean(precisions):.4f}, Recall: {np.mean(recalls):.4f}, F1 Score: {np.mean(f1s):.4f}\")"
   ]
  },
  {
   "cell_type": "code",
   "execution_count": 44,
   "id": "39b210cf",
   "metadata": {},
   "outputs": [
    {
     "name": "stdout",
     "output_type": "stream",
     "text": [
      "[==================================================] 100.0% 376.1/376.1MB downloaded\n"
     ]
    }
   ],
   "source": [
    "w2v = gensim.downloader.load(\"glove-wiki-gigaword-300\")"
   ]
  },
  {
   "cell_type": "code",
   "execution_count": null,
   "id": "9e5b75c0",
   "metadata": {},
   "outputs": [
    {
     "name": "stdout",
     "output_type": "stream",
     "text": [
      "Fold accuracy: 0.8281, Precision: 0.8050, Recall: 0.8421, F1 Score: 0.8232\n",
      "Fold accuracy: 0.8281, Precision: 0.8380, Recall: 0.8523, F1 Score: 0.8451\n",
      "Fold accuracy: 0.8594, Precision: 0.8582, Recall: 0.8288, F1 Score: 0.8432\n",
      "Fold accuracy: 0.8219, Precision: 0.8113, Recall: 0.8269, F1 Score: 0.8190\n",
      "Fold accuracy: 0.8656, Precision: 0.8896, Recall: 0.8529, F1 Score: 0.8709\n"
     ]
    }
   ],
   "source": [
    "accs, precisions, recalls, f1s = [], [], [], []\n",
    "\n",
    "for train_index, test_index in kf.split(X_text):\n",
    "  X_train, X_test = X_text[train_index], X_text[test_index]\n",
    "  y_train, y_test = y[train_index], y[test_index]\n",
    "  X_train = [[w2v[word] for word in word_tokenize(text.lower()) if word in w2v] for text in X_train]\n",
    "  X_test = [[w2v[word] for word in word_tokenize(text.lower()) if word in w2v] for text in X_test]\n",
    "  max_len = max(len(x) for x in X_train)\n",
    "  X_train = [x + [np.zeros(300)] * (max_len - len(x)) if len(x) < max_len else x[:max_len] for x in X_train]\n",
    "  X_test = [x + [np.zeros(300)] * (max_len - len(x)) if len(x) < max_len else x[:max_len] for x in X_test]\n",
    "  X_train = np.array(X_train).transpose((0, 2, 1))  # Shape: (num_samples, 300, max_len)\n",
    "  X_test = np.array(X_test).transpose((0, 2, 1))  # Shape: (num_samples, 300, max_len)\n",
    "\n",
    "  model = nn.Sequential(\n",
    "    nn.Conv1d(in_channels=300, out_channels=128, kernel_size=3),\n",
    "    nn.ReLU(),\n",
    "    nn.MaxPool1d(kernel_size=2),\n",
    "    nn.Conv1d(in_channels=128, out_channels=64, kernel_size=3),\n",
    "    nn.ReLU(),\n",
    "    nn.MaxPool1d(kernel_size=2),\n",
    "    nn.Flatten(),\n",
    "    nn.Linear(64 * (((max_len - 3 + 1 - 2) // 2 + 1 - 3 + 1 - 2) // 2 + 1), 32),\n",
    "    nn.ReLU(),\n",
    "    nn.Linear(32, 1),\n",
    "    nn.Sigmoid()\n",
    "  )\n",
    "\n",
    "  criterion = nn.BCELoss()\n",
    "  optimizer = torch.optim.Adam(model.parameters(), lr=0.001)\n",
    "  X_train_tensor = torch.tensor(X_train, dtype=torch.float32)\n",
    "  y_train_tensor = torch.tensor(y_train, dtype=torch.float32).unsqueeze(1)\n",
    "  X_test_tensor = torch.tensor(X_test, dtype=torch.float32)\n",
    "  y_test_tensor = torch.tensor(y_test, dtype=torch.float32).unsqueeze(1)\n",
    "  for epoch in range(100):\n",
    "    model.train()\n",
    "    optimizer.zero_grad()\n",
    "    outputs = model(X_train_tensor)\n",
    "    loss = criterion(outputs, y_train_tensor)\n",
    "    loss.backward()\n",
    "    optimizer.step()\n",
    "\n",
    "  with torch.no_grad():\n",
    "    test_outputs = model(X_test_tensor)\n",
    "    boundary = 0.5\n",
    "    test_outputs = (test_outputs > boundary).float()\n",
    "    accuracy = (test_outputs.squeeze() == y_test_tensor.squeeze()).float().mean().item()\n",
    "    precision = precision_score(y_test, test_outputs.numpy())\n",
    "    recall = recall_score(y_test, test_outputs.numpy())\n",
    "    f1 = f1_score(y_test, test_outputs.numpy())\n",
    "  accs.append(accuracy)\n",
    "  precisions.append(precision)\n",
    "  recalls.append(recall)\n",
    "  f1s.append(f1)\n",
    "  print(f\"Fold accuracy: {accuracy:.4f}, Precision: {precision:.4f}, Recall: {recall:.4f}, F1 Score: {f1:.4f}\")"
   ]
  },
  {
   "cell_type": "code",
   "execution_count": 46,
   "id": "62d1dc2e",
   "metadata": {},
   "outputs": [
    {
     "name": "stdout",
     "output_type": "stream",
     "text": [
      "Average accuracy: 0.8406, Precision: 0.8404, Recall: 0.8406, F1 Score: 0.8403\n"
     ]
    }
   ],
   "source": [
    "print(f\"Average accuracy: {np.mean(accs):.4f}, Precision: {np.mean(precisions):.4f}, Recall: {np.mean(recalls):.4f}, F1 Score: {np.mean(f1s):.4f}\")"
   ]
  },
  {
   "cell_type": "code",
   "execution_count": null,
   "id": "1284e6f7",
   "metadata": {},
   "outputs": [],
   "source": [
    "class LSTMModel(nn.Module):\n",
    "  def __init__(self, input_size, hidden_size, num_layers):\n",
    "    super(LSTMModel, self).__init__()\n",
    "    self.lstm1 = nn.LSTM(input_size=input_size, hidden_size=hidden_size, num_layers=num_layers, batch_first=True)\n",
    "    # self.lstm2 = nn.LSTM(input_size=hidden_size, hidden_size=hidden_size // 2, num_layers=num_layers, batch_first=True)\n",
    "    self.fc1 =  nn.Linear(hidden_size, 1)\n",
    "\n",
    "  def forward(self, x):\n",
    "    assert not torch.isnan(x).any()\n",
    "    assert not torch.isinf(x).any()\n",
    "\n",
    "    out, _ = self.lstm1(x)\n",
    "    out = out.mean(dim=1)  # Average over the sequence length\n",
    "    out = self.fc1(out)\n",
    "    return out"
   ]
  },
  {
   "cell_type": "code",
   "execution_count": 37,
   "id": "313e04f0",
   "metadata": {},
   "outputs": [],
   "source": [
    "class CNNLSTMModel(nn.Module):\n",
    "  def __init__(self, input_size, hidden_size, num_layers):\n",
    "    super(CNNLSTMModel, self).__init__()\n",
    "    self.conv1 = nn.Conv1d(in_channels=input_size, out_channels=hidden_size, kernel_size=3)\n",
    "    self.lstm = nn.LSTM(input_size=hidden_size, hidden_size=hidden_size // 2, num_layers=num_layers, batch_first=True)\n",
    "    self.fc1 = nn.Linear(hidden_size // 2, 1)\n",
    "\n",
    "  def forward(self, x):\n",
    "    assert not torch.isnan(x).any()\n",
    "    assert not torch.isinf(x).any()\n",
    "\n",
    "    x = x.transpose(1, 2)  # Change shape to (batch_size, input_size, sequence_length)\n",
    "    out = self.conv1(x)\n",
    "    out = out.transpose(1, 2)  # Change shape back to (batch_size, sequence_length, hidden_size)\n",
    "    out, _ = self.lstm(out)\n",
    "    out = out.mean(dim=1)  # Average over the sequence length\n",
    "    out = self.fc1(out)\n",
    "    return out"
   ]
  },
  {
   "cell_type": "code",
   "execution_count": 9,
   "id": "95f2c14a",
   "metadata": {},
   "outputs": [],
   "source": [
    "from torch.utils.data import DataLoader, TensorDataset\n",
    "from tqdm import tqdm"
   ]
  },
  {
   "cell_type": "code",
   "execution_count": 36,
   "id": "d30fd542",
   "metadata": {},
   "outputs": [
    {
     "name": "stderr",
     "output_type": "stream",
     "text": [
      "Epoch 200 Loss: 0.693212: 100%|██████████| 200/200 [03:46<00:00,  1.13s/it]\n"
     ]
    },
    {
     "name": "stdout",
     "output_type": "stream",
     "text": [
      "Fold accuracy: 0.4750, Precision: 0.4750, Recall: 1.0000, F1 Score: 0.6441\n"
     ]
    },
    {
     "ename": "KeyboardInterrupt",
     "evalue": "",
     "output_type": "error",
     "traceback": [
      "\u001b[1;31m---------------------------------------------------------------------------\u001b[0m",
      "\u001b[1;31mKeyboardInterrupt\u001b[0m                         Traceback (most recent call last)",
      "Cell \u001b[1;32mIn[36], line 23\u001b[0m\n\u001b[0;32m     19\u001b[0m y_test_tensor \u001b[38;5;241m=\u001b[39m torch\u001b[38;5;241m.\u001b[39mtensor(y_test, dtype\u001b[38;5;241m=\u001b[39mtorch\u001b[38;5;241m.\u001b[39mfloat32)\u001b[38;5;241m.\u001b[39munsqueeze(\u001b[38;5;241m1\u001b[39m)\u001b[38;5;241m.\u001b[39mto(device)\n\u001b[0;32m     21\u001b[0m batch_size \u001b[38;5;241m=\u001b[39m \u001b[38;5;241m32\u001b[39m\n\u001b[1;32m---> 23\u001b[0m train_dataset \u001b[38;5;241m=\u001b[39m TensorDataset(\u001b[43mtorch\u001b[49m\u001b[38;5;241;43m.\u001b[39;49m\u001b[43mtensor\u001b[49m\u001b[43m(\u001b[49m\u001b[43mX_train\u001b[49m\u001b[43m,\u001b[49m\u001b[43m \u001b[49m\u001b[43mdtype\u001b[49m\u001b[38;5;241;43m=\u001b[39;49m\u001b[43mtorch\u001b[49m\u001b[38;5;241;43m.\u001b[39;49m\u001b[43mfloat32\u001b[49m\u001b[43m)\u001b[49m, torch\u001b[38;5;241m.\u001b[39mtensor(y_train, dtype\u001b[38;5;241m=\u001b[39mtorch\u001b[38;5;241m.\u001b[39mfloat32))\n\u001b[0;32m     24\u001b[0m test_dataset \u001b[38;5;241m=\u001b[39m TensorDataset(torch\u001b[38;5;241m.\u001b[39mtensor(X_test, dtype\u001b[38;5;241m=\u001b[39mtorch\u001b[38;5;241m.\u001b[39mfloat32), torch\u001b[38;5;241m.\u001b[39mtensor(y_test, dtype\u001b[38;5;241m=\u001b[39mtorch\u001b[38;5;241m.\u001b[39mfloat32))\n\u001b[0;32m     25\u001b[0m train_loader \u001b[38;5;241m=\u001b[39m DataLoader(train_dataset, batch_size\u001b[38;5;241m=\u001b[39mbatch_size, shuffle\u001b[38;5;241m=\u001b[39m\u001b[38;5;28;01mTrue\u001b[39;00m)\n",
      "\u001b[1;31mKeyboardInterrupt\u001b[0m: "
     ]
    }
   ],
   "source": [
    "accs, precisions, recalls, f1s = [], [], [], []\n",
    "\n",
    "for train_index, test_index in kf.split(X_text):\n",
    "  X_train, X_test = X_text[train_index], X_text[test_index]\n",
    "  y_train, y_test = y[train_index], y[test_index]\n",
    "  X_train = [[w2v[word] for word in word_tokenize(text.lower()) if word in w2v] for text in X_train]\n",
    "  X_test = [[w2v[word] for word in word_tokenize(text.lower()) if word in w2v] for text in X_test]\n",
    "  max_len = max(len(x) for x in X_train)\n",
    "  X_train = [x + [np.zeros(300)] * (max_len - len(x)) if len(x) < max_len else x[:max_len] for x in X_train]\n",
    "  X_test = [x + [np.zeros(300)] * (max_len - len(x)) if len(x) < max_len else x[:max_len] for x in X_test]\n",
    "\n",
    "  model = CNNLSTMModel(input_size=300, hidden_size=128, num_layers=2).to(device)\n",
    "\n",
    "  criterion = nn.BCEWithLogitsLoss()\n",
    "  optimizer = torch.optim.Adam(model.parameters(), lr=0.001)\n",
    "  X_train_tensor = torch.tensor(X_train, dtype=torch.float32).to(device)\n",
    "  y_train_tensor = torch.tensor(y_train, dtype=torch.float32).unsqueeze(1).to(device)\n",
    "  X_test_tensor = torch.tensor(X_test, dtype=torch.float32).to(device)\n",
    "  y_test_tensor = torch.tensor(y_test, dtype=torch.float32).unsqueeze(1).to(device)\n",
    "\n",
    "  batch_size = 32\n",
    "\n",
    "  train_dataset = TensorDataset(torch.tensor(X_train, dtype=torch.float32), torch.tensor(y_train, dtype=torch.float32))\n",
    "  test_dataset = TensorDataset(torch.tensor(X_test, dtype=torch.float32), torch.tensor(y_test, dtype=torch.float32))\n",
    "  train_loader = DataLoader(train_dataset, batch_size=batch_size, shuffle=True)\n",
    "\n",
    "  pbar = tqdm(range(200), desc=\"Training Epochs\")\n",
    "  for epoch in pbar:\n",
    "    for batch_X, batch_y in train_loader:\n",
    "      model.train()\n",
    "      optimizer.zero_grad()\n",
    "      outputs = model(batch_X.to(device))\n",
    "      loss = criterion(outputs, batch_y.unsqueeze(1).to(device))\n",
    "      loss.backward()\n",
    "      optimizer.step()\n",
    "    pbar.set_description(f\"Epoch {epoch+1} Loss: {loss.item():.6f}\")\n",
    "\n",
    "  with torch.no_grad():\n",
    "    model.eval()\n",
    "    test_outputs = nn.Sigmoid()(model(X_test_tensor))\n",
    "    boundary = 0.5\n",
    "    test_outputs = (test_outputs > boundary).float()\n",
    "    accuracy = (test_outputs.squeeze() == y_test_tensor.squeeze()).float().mean().item()\n",
    "    precision = precision_score(y_test, test_outputs.cpu().numpy())\n",
    "    recall = recall_score(y_test, test_outputs.cpu().numpy())\n",
    "    f1 = f1_score(y_test, test_outputs.cpu().numpy())\n",
    "  accs.append(accuracy)\n",
    "  precisions.append(precision)\n",
    "  recalls.append(recall)\n",
    "  f1s.append(f1)\n",
    "  print(f\"Fold accuracy: {accuracy:.4f}, Precision: {precision:.4f}, Recall: {recall:.4f}, F1 Score: {f1:.4f}\")"
   ]
  },
  {
   "cell_type": "code",
   "execution_count": 49,
   "id": "05a6dd4a",
   "metadata": {},
   "outputs": [
    {
     "name": "stdout",
     "output_type": "stream",
     "text": [
      "Average accuracy: 0.8425, Precision: 0.8324, Recall: 0.8607, F1 Score: 0.8447\n"
     ]
    }
   ],
   "source": [
    "print(f\"Average accuracy: {np.mean(accs):.4f}, Precision: {np.mean(precisions):.4f}, Recall: {np.mean(recalls):.4f}, F1 Score: {np.mean(f1s):.4f}\")"
   ]
  },
  {
   "cell_type": "code",
   "execution_count": 6,
   "id": "52be6fe0",
   "metadata": {},
   "outputs": [],
   "source": [
    "from transformers import AutoModel, AutoTokenizer"
   ]
  },
  {
   "cell_type": "code",
   "execution_count": 7,
   "id": "27c47f29",
   "metadata": {},
   "outputs": [],
   "source": [
    "class LLMEncoderClassifier(nn.Module):\n",
    "  def __init__(self, encoder):\n",
    "    super(LLMEncoderClassifier, self).__init__()\n",
    "    self.encoder = encoder\n",
    "    self.fc = nn.Linear(encoder.config.hidden_size, encoder.config.hidden_size // 2)\n",
    "    self.fc2 = nn.Linear(encoder.config.hidden_size // 2, 1)\n",
    "    self.sigmoid = nn.Sigmoid()\n",
    "\n",
    "  def forward(self, input_ids, attention_mask):\n",
    "    outputs = self.encoder(input_ids=input_ids, attention_mask=attention_mask)\n",
    "    cls_output = outputs.last_hidden_state[:, 0, :]  # Get the CLS token output\n",
    "    logits = self.fc2(self.fc(cls_output))\n",
    "    return self.sigmoid(logits)\n",
    "    "
   ]
  },
  {
   "cell_type": "code",
   "execution_count": null,
   "id": "82df3d5f",
   "metadata": {},
   "outputs": [
    {
     "name": "stderr",
     "output_type": "stream",
     "text": [
      "Epoch 100 Loss: 0.420263: 100%|██████████| 100/100 [28:27<00:00, 17.08s/it]\n"
     ]
    },
    {
     "ename": "NameError",
     "evalue": "name 'y_test_tensor' is not defined",
     "output_type": "error",
     "traceback": [
      "\u001b[1;31m---------------------------------------------------------------------------\u001b[0m",
      "\u001b[1;31mNameError\u001b[0m                                 Traceback (most recent call last)",
      "Cell \u001b[1;32mIn[10], line 40\u001b[0m\n\u001b[0;32m     38\u001b[0m boundary \u001b[38;5;241m=\u001b[39m \u001b[38;5;241m0.5\u001b[39m\n\u001b[0;32m     39\u001b[0m test_outputs \u001b[38;5;241m=\u001b[39m (test_outputs \u001b[38;5;241m>\u001b[39m boundary)\u001b[38;5;241m.\u001b[39mfloat()\n\u001b[1;32m---> 40\u001b[0m accuracy \u001b[38;5;241m=\u001b[39m (test_outputs\u001b[38;5;241m.\u001b[39msqueeze() \u001b[38;5;241m==\u001b[39m \u001b[43my_test_tensor\u001b[49m\u001b[38;5;241m.\u001b[39msqueeze())\u001b[38;5;241m.\u001b[39mfloat()\u001b[38;5;241m.\u001b[39mmean()\u001b[38;5;241m.\u001b[39mitem()\n\u001b[0;32m     41\u001b[0m precision \u001b[38;5;241m=\u001b[39m precision_score(y_test, test_outputs\u001b[38;5;241m.\u001b[39mcpu()\u001b[38;5;241m.\u001b[39mnumpy())\n\u001b[0;32m     42\u001b[0m recall \u001b[38;5;241m=\u001b[39m recall_score(y_test, test_outputs\u001b[38;5;241m.\u001b[39mcpu()\u001b[38;5;241m.\u001b[39mnumpy())\n",
      "\u001b[1;31mNameError\u001b[0m: name 'y_test_tensor' is not defined"
     ]
    }
   ],
   "source": [
    "accs, precisions, recalls, f1s = [], [], [], []\n",
    "\n",
    "tokenizer = AutoTokenizer.from_pretrained(\"distilbert-base-uncased\")\n",
    "encoder = AutoModel.from_pretrained(\"distilbert-base-uncased\").to(device)\n",
    "for param in encoder.parameters():\n",
    "  param.requires_grad = False\n",
    "\n",
    "for train_index, test_index in kf.split(X_text):\n",
    "  X_train, X_test = X_text[train_index], X_text[test_index]\n",
    "  y_train, y_test = y[train_index], y[test_index]\n",
    "  X_train_encodings = tokenizer(X_train.tolist(), padding=True, truncation=True, return_tensors=\"pt\").to(device)\n",
    "  X_test_encodings = tokenizer(X_test.tolist(), padding=True, truncation=True, return_tensors=\"pt\").to(device)\n",
    "  model = LLMEncoderClassifier(encoder).to(device)\n",
    "\n",
    "  criterion = nn.BCEWithLogitsLoss()\n",
    "  optimizer = torch.optim.Adam(model.parameters(), lr=0.0001)\n",
    "\n",
    "  batch_size = 32\n",
    "\n",
    "  pbar = tqdm(range(100), desc=\"Training Epochs\")\n",
    "  for epoch in pbar:\n",
    "    for i in range(0, len(X_train_encodings['input_ids']), batch_size):\n",
    "      batch_input_ids = X_train_encodings['input_ids'][i:i+batch_size]\n",
    "      batch_attention_mask = X_train_encodings['attention_mask'][i:i+batch_size]\n",
    "      batch_y = torch.tensor(y_train[i:i+batch_size], dtype=torch.float32).unsqueeze(1).to(device)\n",
    "\n",
    "      model.train()\n",
    "      optimizer.zero_grad()\n",
    "      outputs = model(batch_input_ids, batch_attention_mask)\n",
    "      loss = criterion(outputs, batch_y)\n",
    "      loss.backward()\n",
    "      optimizer.step()\n",
    "    pbar.set_description(f\"Epoch {epoch+1} Loss: {loss.item():.6f}\")\n",
    "\n",
    "  with torch.no_grad():\n",
    "    model.eval()\n",
    "    test_outputs = model(X_test_encodings['input_ids'], X_test_encodings['attention_mask'])\n",
    "    boundary = 0.5\n",
    "    test_outputs = (test_outputs > boundary).float()\n",
    "    accuracy = (test_outputs.squeeze() == torch.tensor(y_test).to(device)).float().mean().item()\n",
    "    precision = precision_score(y_test, test_outputs.cpu().numpy())\n",
    "    recall = recall_score(y_test, test_outputs.cpu().numpy())\n",
    "    f1 = f1_score(y_test, test_outputs.cpu().numpy())\n",
    "  accs.append(accuracy)\n",
    "  precisions.append(precision)\n",
    "  recalls.append(recall)\n",
    "  f1s.append(f1)\n",
    "  print(f\"Fold accuracy: {accuracy:.4f}, Precision: {precision:.4f}, Recall: {recall:.4f}, F1 Score: {f1:.4f}\")"
   ]
  },
  {
   "cell_type": "code",
   "execution_count": 18,
   "id": "e0c74c97",
   "metadata": {},
   "outputs": [
    {
     "data": {
      "text/plain": [
       "0.809374988079071"
      ]
     },
     "execution_count": 18,
     "metadata": {},
     "output_type": "execute_result"
    }
   ],
   "source": [
    "(test_outputs.squeeze() == torch.tensor(y_test).to(device)).float().mean().item()"
   ]
  },
  {
   "cell_type": "code",
   "execution_count": null,
   "id": "8e3ed347",
   "metadata": {},
   "outputs": [],
   "source": []
  }
 ],
 "metadata": {
  "kernelspec": {
   "display_name": "Python 3",
   "language": "python",
   "name": "python3"
  },
  "language_info": {
   "codemirror_mode": {
    "name": "ipython",
    "version": 3
   },
   "file_extension": ".py",
   "mimetype": "text/x-python",
   "name": "python",
   "nbconvert_exporter": "python",
   "pygments_lexer": "ipython3",
   "version": "3.11.8"
  }
 },
 "nbformat": 4,
 "nbformat_minor": 5
}
